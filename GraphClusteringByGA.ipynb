{
 "cells": [
  {
   "cell_type": "code",
   "execution_count": 1,
   "id": "d0a14894-9cce-4bce-8a58-f8addbf81258",
   "metadata": {},
   "outputs": [
    {
     "name": "stdout",
     "output_type": "stream",
     "text": [
      "Selection Probabilities of each node as cluster head:\n",
      "[0.892  0.9105 0.832  0.919  0.948  0.845  0.9065 0.921  0.9565 0.9155]\n"
     ]
    }
   ],
   "source": [
    "import numpy as np\n",
    "import random\n",
    "\n",
    "# Define the graph\n",
    "class Graph:\n",
    "    def __init__(self, num_nodes, adjacency_matrix):\n",
    "        self.num_nodes = num_nodes\n",
    "        self.adjacency_matrix = adjacency_matrix\n",
    "\n",
    "# Define the Genetic Algorithm for clustering\n",
    "class GeneticAlgorithm:\n",
    "    def __init__(self, graph, population_size, generations, mutation_rate):\n",
    "        self.graph = graph\n",
    "        self.population_size = population_size\n",
    "        self.generations = generations\n",
    "        self.mutation_rate = mutation_rate\n",
    "        self.population = self.initialize_population()\n",
    "        self.selection_probabilities = np.zeros(graph.num_nodes)\n",
    "    \n",
    "    def initialize_population(self):\n",
    "        population = []\n",
    "        for _ in range(self.population_size):\n",
    "            chromosome = np.random.randint(0, 2, self.graph.num_nodes)\n",
    "            population.append(chromosome)\n",
    "        return population\n",
    "    \n",
    "    def fitness(self, chromosome):\n",
    "        # Fitness function evaluating the quality of the clustering\n",
    "        return np.sum(chromosome)  # Example: Number of cluster heads (this is a placeholder)\n",
    "    \n",
    "    def select_parents(self):\n",
    "        fitness_values = np.array([self.fitness(chromosome) for chromosome in self.population])\n",
    "        probabilities = fitness_values / fitness_values.sum()\n",
    "        selected_indices = np.random.choice(range(self.population_size), size=2, p=probabilities)\n",
    "        return self.population[selected_indices[0]], self.population[selected_indices[1]]\n",
    "    \n",
    "    def crossover(self, parent1, parent2):\n",
    "        crossover_point = random.randint(0, self.graph.num_nodes - 1)\n",
    "        child1 = np.concatenate((parent1[:crossover_point], parent2[crossover_point:]))\n",
    "        child2 = np.concatenate((parent2[:crossover_point], parent1[crossover_point:]))\n",
    "        return child1, child2\n",
    "    \n",
    "    def mutate(self, chromosome):\n",
    "        for i in range(self.graph.num_nodes):\n",
    "            if random.random() < self.mutation_rate:\n",
    "                chromosome[i] = 1 - chromosome[i]\n",
    "        return chromosome\n",
    "    \n",
    "    def run(self):\n",
    "        for generation in range(self.generations):\n",
    "            new_population = []\n",
    "            for _ in range(self.population_size // 2):\n",
    "                parent1, parent2 = self.select_parents()\n",
    "                child1, child2 = self.crossover(parent1, parent2)\n",
    "                child1 = self.mutate(child1)\n",
    "                child2 = self.mutate(child2)\n",
    "                new_population.extend([child1, child2])\n",
    "            self.population = new_population\n",
    "            \n",
    "            # Track the selection of each node as cluster head\n",
    "            for chromosome in self.population:\n",
    "                self.selection_probabilities += chromosome\n",
    "        \n",
    "        self.selection_probabilities /= (self.population_size * self.generations)\n",
    "        return self.selection_probabilities\n",
    "\n",
    "# Example usage\n",
    "num_nodes = 10\n",
    "adjacency_matrix = np.random.randint(0, 2, (num_nodes, num_nodes))\n",
    "graph = Graph(num_nodes, adjacency_matrix)\n",
    "\n",
    "ga = GeneticAlgorithm(graph, population_size=20, generations=100, mutation_rate=0.01)\n",
    "selection_probabilities = ga.run()\n",
    "\n",
    "print(\"Selection Probabilities of each node as cluster head:\")\n",
    "print(selection_probabilities)\n"
   ]
  },
  {
   "cell_type": "code",
   "execution_count": null,
   "id": "8900af46-a185-441f-9afa-74a0206e74f8",
   "metadata": {},
   "outputs": [],
   "source": []
  }
 ],
 "metadata": {
  "kernelspec": {
   "display_name": "Python 3 (ipykernel)",
   "language": "python",
   "name": "python3"
  },
  "language_info": {
   "codemirror_mode": {
    "name": "ipython",
    "version": 3
   },
   "file_extension": ".py",
   "mimetype": "text/x-python",
   "name": "python",
   "nbconvert_exporter": "python",
   "pygments_lexer": "ipython3",
   "version": "3.11.4"
  }
 },
 "nbformat": 4,
 "nbformat_minor": 5
}
